{
 "cells": [
  {
   "cell_type": "markdown",
   "metadata": {},
   "source": [
    "[作業目標]\n",
    "了解機器學習適合應用的領域與範疇。\n",
    "\n",
    "[作業重點]\n",
    "透過瞭解機器學習的運作方式，找出非常適用機器學習應用的領域及其原因\n",
    "\n",
    "作業\n",
    "請找出一個你認為機器學習可以發光發熱的領域並闡述原因?"
   ]
  },
  {
   "cell_type": "markdown",
   "metadata": {},
   "source": [
    "氣象科學\n",
    "目前天氣預報越來越精準，但還是無法避免劇烈天氣對財損的影響\n",
    "如能透過機器學習的方式更精準預測外還能提供減損的可能性措施，勢必能讓劇烈天氣造成的影響降低\n",
    "例如知道有致災性氣候逼近時，可更早的安全撤離當地居民。\n",
    "以及如能透過巨量資料分析更精準的預測颱風路徑，能讓民眾可以及早預防\n",
    "\n",
    "http://technews.tw/2017/09/12/climate-forecast-seek-ai-for-help/\n"
   ]
  }
 ],
 "metadata": {
  "kernelspec": {
   "display_name": "Python 3",
   "language": "python",
   "name": "python3"
  },
  "language_info": {
   "codemirror_mode": {
    "name": "ipython",
    "version": 3
   },
   "file_extension": ".py",
   "mimetype": "text/x-python",
   "name": "python",
   "nbconvert_exporter": "python",
   "pygments_lexer": "ipython3",
   "version": "3.7.3"
  }
 },
 "nbformat": 4,
 "nbformat_minor": 2
}
